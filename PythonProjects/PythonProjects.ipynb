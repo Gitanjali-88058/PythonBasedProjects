{
 "cells": [
  {
   "cell_type": "markdown",
   "metadata": {},
   "source": [
    "# Clock"
   ]
  },
  {
   "cell_type": "code",
   "execution_count": null,
   "metadata": {},
   "outputs": [],
   "source": [
    "from tkinter import *\n",
    "from tkinter.ttk import *\n",
    "from time import strftime\n",
    "root=Tk()\n",
    "root.title(\"Clock\")\n",
    "\n",
    "def time():\n",
    "    string=strftime('%H:%M:%S %p')\n",
    "    label.config(text=string)\n",
    "    label.after(1000,time)\n",
    "label=Label(root,font=(\"Times new roman\",60),background=\"black\" , foreground=\"cyan\")\n",
    "label.pack(anchor='center')\n",
    "time()\n",
    "\n",
    "mainloop()"
   ]
  },
  {
   "cell_type": "markdown",
   "metadata": {},
   "source": [
    "# Dice Simulator"
   ]
  },
  {
   "cell_type": "code",
   "execution_count": null,
   "metadata": {},
   "outputs": [],
   "source": [
    "#Dice simulator\n",
    "\n",
    "import tkinter\n",
    "from tkinter import *\n",
    "from tkinter.ttk import * \n",
    "import random\n",
    "root=Tk()\n",
    "root.title(\"Dice simulator\")\n",
    "def dice_simulator():\n",
    "       \n",
    "    dice=random.randint(1,6)\n",
    "    label.config(text=dice)\n",
    "button=tkinter.Button(root, text=\"Roll the die\",fg=\"blue\",command=dice_simulator)\n",
    "label=Label(root,font=(\"Times new roman\", 80),background=\"black\",foreground=\"white\")\n",
    "label.pack(anchor='center')\n",
    "dice_simulator()\n",
    "button.pack(expand=True)\n",
    "mainloop()"
   ]
  },
  {
   "cell_type": "markdown",
   "metadata": {},
   "source": [
    "# Rock,Paper and Scissor"
   ]
  },
  {
   "cell_type": "code",
   "execution_count": null,
   "metadata": {},
   "outputs": [],
   "source": [
    "# Rock Paper Scissor\n",
    "import random\n",
    "from random import choice\n",
    "options=['rock','paper','scissor']\n",
    "while True: \n",
    "    comp=random.choice(options)\n",
    "    player=None\n",
    "    while player not in options:\n",
    "           player=input(\"Select rock/paper/scissor\").lower()\n",
    "            \n",
    "    if(player==comp):\n",
    "        print('comp:',comp)\n",
    "        print('player:', player)\n",
    "        print(\"Its a tie!\")\n",
    "    elif (player=='rock'):\n",
    "        if(comp=='paper'):\n",
    "            print('comp:',comp)\n",
    "            print('player:', player)\n",
    "            print(\"You lose:(\")\n",
    "        else:\n",
    "            print('comp:',comp)\n",
    "            print('player:', player)\n",
    "            print(\"You won:)\")\n",
    "    elif(player=='paper'):\n",
    "        if(comp=='rock'):\n",
    "            print('comp:',comp)\n",
    "            print('player:', player)\n",
    "            print(\"You won:)\")\n",
    "        else:\n",
    "            print('comp:',comp)\n",
    "            print('player:', player)\n",
    "            print(\"You lose:(\")\n",
    "    else:\n",
    "        if(comp==\"rock\"):\n",
    "            print('comp:',comp)\n",
    "            print('player:', player)\n",
    "            print(\"You lose:(\")\n",
    "        else:\n",
    "            print('comp:',comp)\n",
    "            print('player:', player)\n",
    "            print(\"You won:)\")\n",
    "            \n",
    "    play_again=input(\"Want to play again? yes/no: \").lower()\n",
    "    if play_again=='yes':\n",
    "        print(\"Another round!\")\n",
    "    else:\n",
    "        break\n",
    "print(\"Bye!\")"
   ]
  },
  {
   "cell_type": "markdown",
   "metadata": {},
   "source": [
    "# DesktopNotifier - WaterNotifier"
   ]
  },
  {
   "cell_type": "code",
   "execution_count": 9,
   "metadata": {},
   "outputs": [
    {
     "data": {
      "text/plain": [
       "True"
      ]
     },
     "execution_count": 9,
     "metadata": {},
     "output_type": "execute_result"
    }
   ],
   "source": [
    "from notifypy import Notify\n",
    "\n",
    "notification = Notify()\n",
    "notification.title = \"Its Time to drink water\"\n",
    "notification.message = \"Drinking water can prevent dehydration, a condition that can cause unclear thinking, result in mood change, cause your body to overheat, and lead to constipation and kidney stones.\"\n",
    "notification.icon = \"Iconsmind-Outline-Glass-Water.ico\"\n",
    "\n",
    "notification.send()"
   ]
  },
  {
   "cell_type": "code",
   "execution_count": 1,
   "metadata": {},
   "outputs": [
    {
     "data": {
      "application/javascript": [
       "if (!(\"Notification\" in window)) {\n",
       "    alert(\"This browser does not support desktop notifications, so the %%notify magic will not work.\");\n",
       "} else if (Notification.permission !== 'granted' && Notification.permission !== 'denied') {\n",
       "    Notification.requestPermission(function (permission) {\n",
       "        if(!('permission' in Notification)) {\n",
       "            Notification.permission = permission;\n",
       "        }\n",
       "    })\n",
       "}\n"
      ],
      "text/plain": [
       "<IPython.core.display.Javascript object>"
      ]
     },
     "metadata": {},
     "output_type": "display_data"
    }
   ],
   "source": [
    "%load_ext jupyternotify"
   ]
  },
  {
   "cell_type": "code",
   "execution_count": 4,
   "metadata": {},
   "outputs": [
    {
     "name": "stdout",
     "output_type": "stream",
     "text": [
      "Requirement already satisfied: plyer in g:\\covid-19\\anaconda_2020\\lib\\site-packages (2.0.0)\n",
      "Note: you may need to restart the kernel to use updated packages.\n"
     ]
    }
   ],
   "source": [
    "pip install plyer"
   ]
  },
  {
   "cell_type": "code",
   "execution_count": 5,
   "metadata": {},
   "outputs": [],
   "source": [
    "import time\n",
    "from plyer import notification\n",
    "\n",
    "if __name__==\"__main__\":\n",
    "    notification.notify(title= \"Its Time to drink water\",\n",
    "                    message= \"Drinking water can prevent dehydration, a condition that can cause unclear thinking, result in mood change, cause your body to overheat, and lead to constipation and kidney stones.\",\n",
    "                    app_icon = \"Iconsmind-Outline-Glass-Water.ico\",\n",
    "                    timeout= 3,\n",
    "                    toast=False)\n",
    "    time.sleep(6)"
   ]
  },
  {
   "cell_type": "code",
   "execution_count": null,
   "metadata": {},
   "outputs": [],
   "source": []
  }
 ],
 "metadata": {
  "kernelspec": {
   "display_name": "Python 3",
   "language": "python",
   "name": "python3"
  },
  "language_info": {
   "codemirror_mode": {
    "name": "ipython",
    "version": 3
   },
   "file_extension": ".py",
   "mimetype": "text/x-python",
   "name": "python",
   "nbconvert_exporter": "python",
   "pygments_lexer": "ipython3",
   "version": "3.7.6"
  }
 },
 "nbformat": 4,
 "nbformat_minor": 4
}
